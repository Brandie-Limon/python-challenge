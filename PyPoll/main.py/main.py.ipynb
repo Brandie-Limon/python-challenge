{
 "cells": [
  {
   "cell_type": "code",
   "execution_count": 31,
   "metadata": {},
   "outputs": [],
   "source": [
    "import csv\n"
   ]
  },
  {
   "cell_type": "code",
   "execution_count": 32,
   "metadata": {},
   "outputs": [
    {
     "name": "stdout",
     "output_type": "stream",
     "text": [
      "{'Khan': 2218231, 'Correy': 704200, 'Li': 492940, \"O'Tooley\": 105630}\n"
     ]
    }
   ],
   "source": [
    "my_dict={}\n",
    "my_list=[]\n",
    "with open(\"election_data.csv\") as csv_file:\n",
    "    csv_reader = csv.reader(csv_file, delimiter=',')\n",
    "    header = next(csv_reader)\n",
    "   \n",
    "  \n",
    "    for row in csv_reader:\n",
    "#         print(row)\n",
    "        if row[2] not in my_list:\n",
    "            my_list.append(row[2])\n",
    "            my_dict[row[2]]=0\n",
    "            \n",
    "        my_dict[row[2]] = my_dict[row[2]] + 1\n",
    "\n",
    "    print(my_dict)\n",
    "\n",
    "    "
   ]
  },
  {
   "cell_type": "code",
   "execution_count": 33,
   "metadata": {},
   "outputs": [
    {
     "name": "stdout",
     "output_type": "stream",
     "text": [
      "Khan 2218231\n"
     ]
    }
   ],
   "source": [
    "maxvote=0\n",
    "for cand,votes in my_dict.items():\n",
    "\n",
    "\n",
    "    if votes >maxvote:\n",
    "        winner=cand\n",
    "        maxvote=votes\n",
    "print(winner,maxvote)\n",
    "total_votes=sum(my_dict.values())"
   ]
  },
  {
   "cell_type": "code",
   "execution_count": 34,
   "metadata": {},
   "outputs": [
    {
     "name": "stdout",
     "output_type": "stream",
     "text": [
      "Election Results\n",
      "------------------------\n",
      "Total votes: 3521001\n",
      "------------------------\n"
     ]
    }
   ],
   "source": [
    "print (\"Election Results\")\n",
    "print(\"------------------------\")\n",
    "print(f'Total votes: {total_votes}')\n",
    "print(\"------------------------\")\n",
    "      "
   ]
  },
  {
   "cell_type": "code",
   "execution_count": 35,
   "metadata": {},
   "outputs": [
    {
     "name": "stdout",
     "output_type": "stream",
     "text": [
      "Khan: 0.6300001050837531 % (2218231)\n",
      "Correy: 0.19999994319797126 % (704200)\n",
      "Li: 0.13999996023857988 % (492940)\n",
      "O'Tooley: 0.02999999147969569 % (105630)\n"
     ]
    }
   ],
   "source": [
    "for cand,votes in my_dict.items():\n",
    "    print(f'{cand}: {votes/total_votes} % ({votes})')\n",
    "    "
   ]
  },
  {
   "cell_type": "code",
   "execution_count": 36,
   "metadata": {},
   "outputs": [
    {
     "name": "stdout",
     "output_type": "stream",
     "text": [
      "Election Results\n",
      "--------------------\n",
      "winner:Khan\n"
     ]
    }
   ],
   "source": [
    "print (\"Election Results\")\n",
    "print (\"--------------------\")\n",
    "print(f'winner:{winner}')"
   ]
  },
  {
   "cell_type": "code",
   "execution_count": null,
   "metadata": {},
   "outputs": [],
   "source": []
  }
 ],
 "metadata": {
  "kernelspec": {
   "display_name": "Python 3",
   "language": "python",
   "name": "python3"
  },
  "language_info": {
   "codemirror_mode": {
    "name": "ipython",
    "version": 3
   },
   "file_extension": ".py",
   "mimetype": "text/x-python",
   "name": "python",
   "nbconvert_exporter": "python",
   "pygments_lexer": "ipython3",
   "version": "3.8.5"
  }
 },
 "nbformat": 4,
 "nbformat_minor": 4
}
