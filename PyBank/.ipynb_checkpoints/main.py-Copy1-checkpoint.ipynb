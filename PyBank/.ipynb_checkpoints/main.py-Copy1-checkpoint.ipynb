{
 "cells": [
  {
   "cell_type": "code",
   "execution_count": 1,
   "metadata": {},
   "outputs": [],
   "source": [
    "import os\n",
    "import csv"
   ]
  },
  {
   "cell_type": "code",
   "execution_count": null,
   "metadata": {},
   "outputs": [],
   "source": [
    "csvpath=os.path.join (\"Resources/budget_data.csv\")\n",
    "with open(\"Resources/budget_data.csv\") as csv_file:\n",
    "    csv_reader = csv.reader(csv_file, delimiter=',')\n",
    "    for rows in csv_reader:print(rows)"
   ]
  },
  {
   "cell_type": "code",
   "execution_count": 4,
   "metadata": {},
   "outputs": [
    {
     "name": "stdout",
     "output_type": "stream",
     "text": [
      "Total Months: 86\n",
      "38382578\n"
     ]
    }
   ],
   "source": [
    "csvpath=os.path.join (\"Resources/budget_data.csv\")\n",
    "total_months = 0\n",
    "Profit_Losses=0\n",
    "\n",
    "with open(\"Resources/budget_data.csv\") as csv_file:\n",
    "    csv_reader = csv.reader(csv_file, delimiter=',')\n",
    "    header = next(csv_reader)\n",
    "    for row in csv_reader:\n",
    "        total_months += 1 \n",
    "        Profit_Losses= int(row[1])+Profit_Losses \n",
    "#         print(row)\n",
    "\n",
    "\n",
    "msg = ('Total Months: ' + str(total_months))\n",
    "print(msg)\n",
    "print(Profit_Losses)"
   ]
  },
  {
   "cell_type": "code",
   "execution_count": 7,
   "metadata": {},
   "outputs": [
    {
     "name": "stdout",
     "output_type": "stream",
     "text": [
      "86\n",
      "[116771, -662642, -391430, 379920, 212354, 510239, -428211, -821271, 693918, 416278, -974163, 860159, -1115009, 1033048, 95318, -308093, 99052, -521393, 605450, 231727, -65187, -702716, 177975, -1065544, 1926159, -917805, 898730, -334262, -246499, -64055, -1529236, 1497596, 304914, -635801, 398319, -183161, -37864, -253689, 403655, 94168, 306877, -83000, 210462, -2196167, 1465222, -956983, 1838447, -468003, -64602, 206242, -242155, -449079, 315198, 241099, 111540, 365942, -219310, -368665, 409837, 151210, -110244, -341938, -1212159, 683246, -70825, 335594, 417334, -272194, -236462, 657432, -211262, -128237, -1750387, 925441, 932089, -311434, 267252, -1876758, 1733696, 198551, -665765, 693229, -734926, 77242, 532869]\n",
      "-2289.1976744186045\n"
     ]
    }
   ],
   "source": [
    "csvpath=os.path.join (\"Resources/budget_data.csv\")\n",
    "with open(\"Resources/budget_data.csv\") as csv_file:\n",
    "    csv_reader = csv.reader(csv_file, delimiter=',')\n",
    "    header = next(csv_reader)\n",
    "    \n",
    "\n",
    "    total_months=0\n",
    "    prev_net=0\n",
    "    change_list = []\n",
    "    for row in csv_reader:\n",
    "        total_months += 1\n",
    "        #this si the impoerant computation\n",
    "        curr_net=int(row[1])\n",
    "        change = curr_net-prev_net\n",
    "\n",
    "        #Thios takes effect only for the next row\n",
    "\n",
    "        prev_net=curr_net\n",
    "\n",
    "        change_list.append(change)\n",
    "\n",
    "        \n",
    "    print(total_months)\n",
    "    print(change_list[1:])\n",
    "    print(sum(change_list[1:])/len(change_list)-1)\n"
   ]
  },
  {
   "cell_type": "code",
   "execution_count": null,
   "metadata": {},
   "outputs": [],
   "source": [
    " "
   ]
  },
  {
   "cell_type": "code",
   "execution_count": null,
   "metadata": {},
   "outputs": [],
   "source": []
  }
 ],
 "metadata": {
  "kernelspec": {
   "display_name": "Python 3",
   "language": "python",
   "name": "python3"
  },
  "language_info": {
   "codemirror_mode": {
    "name": "ipython",
    "version": 3
   },
   "file_extension": ".py",
   "mimetype": "text/x-python",
   "name": "python",
   "nbconvert_exporter": "python",
   "pygments_lexer": "ipython3",
   "version": "3.8.5"
  }
 },
 "nbformat": 4,
 "nbformat_minor": 4
}
